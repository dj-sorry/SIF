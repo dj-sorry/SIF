{
 "cells": [
  {
   "cell_type": "code",
   "execution_count": 10,
   "metadata": {},
   "outputs": [],
   "source": [
    "import sys\n",
    "sys.path.append(\"..\")\n",
    "import pandas as pd\n",
    "import numpy as np\n",
    "from sif_src.utils import load_glove_vectors\n"
   ]
  },
  {
   "cell_type": "code",
   "execution_count": 2,
   "metadata": {},
   "outputs": [],
   "source": [
    "train_df = pd.read_pickle(\"../pickle_backups/marco_train_df2024-06-04T17.38.1717490321.pickle\")"
   ]
  },
  {
   "cell_type": "code",
   "execution_count": 3,
   "metadata": {},
   "outputs": [],
   "source": [
    "train_passages = train_df[\"passages\"]"
   ]
  },
  {
   "cell_type": "code",
   "execution_count": 4,
   "metadata": {},
   "outputs": [],
   "source": [
    "train_texts = []\n",
    "for i in range(len(train_passages)):\n",
    "    train_texts.append(train_passages[i][\"passage_text\"])"
   ]
  },
  {
   "cell_type": "code",
   "execution_count": 5,
   "metadata": {},
   "outputs": [],
   "source": [
    "train_df[\"texts\"] = train_texts"
   ]
  },
  {
   "cell_type": "code",
   "execution_count": 11,
   "metadata": {},
   "outputs": [
    {
     "name": "stderr",
     "output_type": "stream",
     "text": [
      "python(20473) MallocStackLogging: can't turn off malloc stack logging because it was not enabled.\n",
      "Loading GloVe Vectors: 100%|██████████| 400000/400000 [00:07<00:00, 50520.19it/s] \n"
     ]
    }
   ],
   "source": [
    "glove_vectors = load_glove_vectors('../wv/glove.6B.50d.txt')"
   ]
  },
  {
   "cell_type": "code",
   "execution_count": null,
   "metadata": {},
   "outputs": [],
   "source": [
    "\"\"\"from collections import Counter\n",
    "\n",
    "word_counts = Counter()\n",
    "for sentence in train_df['query'].tolist() + train_df['passage_text'].tolist():\n",
    "    word_counts.update(sentence.split())\n",
    "\"\"\""
   ]
  },
  {
   "cell_type": "code",
   "execution_count": null,
   "metadata": {},
   "outputs": [],
   "source": [
    "\"\"\"import math\n",
    "\n",
    "def sif_weight(word, a=1e-3):\n",
    "    return a / (a + word_counts[word])\n",
    "\n",
    "def sentence_to_sif(sentence, embeddings_index, embedding_dim=50, a=1e-3):\n",
    "    words = sentence.split()\n",
    "    weights = [sif_weight(word) for word in words]\n",
    "    embedding_matrix = np.zeros((len(words), embedding_dim))\n",
    "    for i, word in enumerate(words):\n",
    "        embedding_vector = embeddings_index.get(word)\n",
    "        if embedding_vector is not None:\n",
    "            embedding_matrix[i] = embedding_vector * weights[i]\n",
    "    return np.sum(embedding_matrix, axis=0) / (np.sum(weights) + 1e-9)\n",
    "\n",
    "train_df['query_sif'] = train_df['query'].apply(lambda x: sentence_to_sif(x, glove_vectors))\n",
    "train_df['passage_sif'] = train_df['passage_text'].apply(lambda x: sentence_to_sif(x, glove_vectors))\"\"\""
   ]
  },
  {
   "cell_type": "code",
   "execution_count": null,
   "metadata": {},
   "outputs": [],
   "source": [
    "\"\"\"with open('../pickle_backups/0608_train_sifglove.pickle', 'wb') as f:\n",
    "    pickle.dump(train_df, f)\"\"\""
   ]
  }
 ],
 "metadata": {
  "kernelspec": {
   "display_name": "Python 3",
   "language": "python",
   "name": "python3"
  },
  "language_info": {
   "codemirror_mode": {
    "name": "ipython",
    "version": 3
   },
   "file_extension": ".py",
   "mimetype": "text/x-python",
   "name": "python",
   "nbconvert_exporter": "python",
   "pygments_lexer": "ipython3",
   "version": "3.11.5"
  }
 },
 "nbformat": 4,
 "nbformat_minor": 2
}
