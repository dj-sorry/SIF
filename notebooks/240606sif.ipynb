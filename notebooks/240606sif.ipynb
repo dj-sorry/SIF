{
 "cells": [
  {
   "cell_type": "code",
   "execution_count": 1,
   "metadata": {},
   "outputs": [
    {
     "name": "stderr",
     "output_type": "stream",
     "text": [
      "[nltk_data] Downloading package punkt to /Users/yegor/nltk_data...\n",
      "[nltk_data]   Package punkt is already up-to-date!\n",
      "[nltk_data] Downloading package stopwords to /Users/yegor/nltk_data...\n",
      "[nltk_data]   Package stopwords is already up-to-date!\n"
     ]
    }
   ],
   "source": [
    "import sys\n",
    "sys.path.append(\"..\")\n",
    "from sif_src.loader import load_data, save_processed_data\n",
    "from sif_src.preprocess_data import preprocess_text\n",
    "from sif_src.utils import load_glove, load_glove_vectors\n",
    "from sif_src.sif import compute_word_frequencies, compute_sif_weights, compute_sif_embeddings, remove_pc\n",
    "from pathlib import Path\n",
    "import pandas as pd\n",
    "import numpy as np\n",
    "import pickle"
   ]
  },
  {
   "cell_type": "code",
   "execution_count": 2,
   "metadata": {},
   "outputs": [],
   "source": [
    "train_df = pd.read_pickle(\"../pickle_backups/marco_train_df2024-06-04T17.38.1717490321.pickle\")\n",
    "valid_df = pd.read_pickle(\"../pickle_backups/marco_valid_df2024-06-04T17.38.1717490321.pickle\")"
   ]
  },
  {
   "cell_type": "code",
   "execution_count": 3,
   "metadata": {},
   "outputs": [
    {
     "name": "stderr",
     "output_type": "stream",
     "text": [
      "Loading GloVe Vectors: 100%|██████████| 400000/400000 [01:12<00:00, 5512.90it/s]\n"
     ]
    }
   ],
   "source": [
    "glove_vectors = load_glove_vectors('../wv/glove.6B.50d.txt')"
   ]
  },
  {
   "cell_type": "code",
   "execution_count": 4,
   "metadata": {},
   "outputs": [],
   "source": [
    "def extract_passage_texts(row):\n",
    "    passage_dicts = row['passages']\n",
    "    passage_texts = [passage_dicts['passage_text'][i] for i in range(len(passage_dicts['passage_text']))]\n",
    "    return \" \".join(passage_texts)\n",
    "\n",
    "# Apply the function to the DataFrame\n",
    "train_df['passage_text'] = train_df.apply(extract_passage_texts, axis=1)\n",
    "valid_df['passage_text'] = valid_df.apply(extract_passage_texts, axis=1)"
   ]
  },
  {
   "cell_type": "code",
   "execution_count": 5,
   "metadata": {},
   "outputs": [],
   "source": [
    "train_corpus = train_df['query'].tolist() + train_df['passage_text'].tolist()\n",
    "word_freq = compute_word_frequencies(train_corpus)\n",
    "sif_weights = compute_sif_weights(word_freq)"
   ]
  },
  {
   "cell_type": "code",
   "execution_count": 6,
   "metadata": {},
   "outputs": [
    {
     "name": "stderr",
     "output_type": "stream",
     "text": [
      "Computing SIF embeddings:  11%|█         | 96030/891057 [00:12<00:47, 16655.63it/s]"
     ]
    }
   ],
   "source": [
    "train_queries_sif = compute_sif_embeddings(train_df['query'].tolist(), glove_vectors, sif_weights)"
   ]
  },
  {
   "cell_type": "code",
   "execution_count": null,
   "metadata": {},
   "outputs": [],
   "source": [
    "\"\"\"train_passages_sif = compute_sif_embeddings(train_df['passage_text'].tolist(), glove_vectors, sif_weights)\n",
    "\"\"\""
   ]
  },
  {
   "cell_type": "code",
   "execution_count": null,
   "metadata": {},
   "outputs": [],
   "source": [
    "\"\"\"file_path2 = \"../pickle_backups/train_passages_sif_embeddings.pickle\"\n",
    "\n",
    "# Load the pickled embeddings\n",
    "with open(file_path2, 'wb') as f:\n",
    "    pickle.dump(f)\n",
    "\n",
    "print(\"SIF embeddings are loaded successfully.\")\"\"\""
   ]
  },
  {
   "cell_type": "code",
   "execution_count": null,
   "metadata": {},
   "outputs": [],
   "source": [
    "file_path = \"../pickle_backups/train_queries_sif_embeddings.pickle\"\n",
    "\n",
    "# Load the pickled embeddings\n",
    "with open(file_path, 'wb') as f:\n",
    "    pickle.dump(train_queries_sif, f)\n",
    "\n",
    "print(\"SIF embeddings are loaded successfully.\")"
   ]
  },
  {
   "cell_type": "code",
   "execution_count": null,
   "metadata": {},
   "outputs": [],
   "source": [
    "\"\"\"valid_queries_sif = compute_sif_embeddings(valid_df['query'].tolist(), glove_vectors, sif_weights)\n",
    "\"\"\""
   ]
  },
  {
   "cell_type": "code",
   "execution_count": null,
   "metadata": {},
   "outputs": [],
   "source": [
    "\"\"\"valid_passages_sif = compute_sif_embeddings(valid_df['passage_text'].tolist(), glove_vectors, sif_weights)\"\"\""
   ]
  },
  {
   "cell_type": "code",
   "execution_count": null,
   "metadata": {},
   "outputs": [],
   "source": [
    "\"\"\"train_queries_sif = remove_pc(train_queries_sif)\n",
    "train_passages_sif = remove_pc(train_passages_sif)\n",
    "valid_queries_sif = remove_pc(valid_queries_sif)\n",
    "valid_passages_sif = remove_pc(valid_passages_sif)\"\"\""
   ]
  },
  {
   "cell_type": "code",
   "execution_count": null,
   "metadata": {},
   "outputs": [],
   "source": [
    "\"\"\"X_train_sif = np.concatenate([train_queries_sif, train_passages_sif], axis=1)\n",
    "X_valid_sif = np.concatenate([valid_queries_sif, valid_passages_sif], axis=1)\n",
    "y_train = np.array(train_df['label'].values)\n",
    "y_valid = np.array(valid_df['label'].values)\"\"\""
   ]
  },
  {
   "cell_type": "code",
   "execution_count": null,
   "metadata": {},
   "outputs": [],
   "source": [
    "\"\"\"def predict(params, inputs):\n",
    "    return np.dot(inputs, params)\n",
    "\n",
    "def loss_fn(params, inputs, targets):\n",
    "    predictions = predict(params, inputs)\n",
    "    return np.mean((predictions - targets) ** 2)\n",
    "\n",
    "def update(params, inputs, targets, learning_rate=0.01):\n",
    "    grads = grad(loss_fn)(params, inputs, targets)\n",
    "    return params - learning_rate * grads\n",
    "\n",
    "# Train the model\n",
    "def train_model(X_train, y_train, num_epochs=100, learning_rate=0.01):\n",
    "    params = np.zeros(X_train.shape[1])\n",
    "    for epoch in range(num_epochs):\n",
    "        params = update(params, X_train, y_train, learning_rate)\n",
    "    return params\"\"\""
   ]
  },
  {
   "cell_type": "code",
   "execution_count": null,
   "metadata": {},
   "outputs": [],
   "source": [
    "\"\"\"params_sif = train_model(X_train_sif, y_train)\"\"\""
   ]
  },
  {
   "cell_type": "code",
   "execution_count": null,
   "metadata": {},
   "outputs": [],
   "source": [
    "\"\"\"def evaluate_model(params, X_valid, y_valid):\n",
    "    predictions = predict(params, X_valid)\n",
    "    return np.mean((predictions - y_valid) ** 2)\"\"\""
   ]
  },
  {
   "cell_type": "code",
   "execution_count": null,
   "metadata": {},
   "outputs": [],
   "source": [
    "\"\"\"mse_sif = evaluate_model(params_sif, X_valid_sif, y_valid)\n",
    "print(f\"SIF MSE: {mse_sif}\")\"\"\""
   ]
  },
  {
   "cell_type": "code",
   "execution_count": null,
   "metadata": {},
   "outputs": [],
   "source": []
  }
 ],
 "metadata": {
  "kernelspec": {
   "display_name": "Python 3",
   "language": "python",
   "name": "python3"
  },
  "language_info": {
   "codemirror_mode": {
    "name": "ipython",
    "version": 3
   },
   "file_extension": ".py",
   "mimetype": "text/x-python",
   "name": "python",
   "nbconvert_exporter": "python",
   "pygments_lexer": "ipython3",
   "version": "3.11.8"
  }
 },
 "nbformat": 4,
 "nbformat_minor": 2
}
