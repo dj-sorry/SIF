{
 "cells": [
  {
   "cell_type": "code",
   "execution_count": 3,
   "metadata": {},
   "outputs": [
    {
     "name": "stderr",
     "output_type": "stream",
     "text": [
      "[nltk_data] Downloading package punkt to /Users/yegor/nltk_data...\n",
      "[nltk_data]   Package punkt is already up-to-date!\n",
      "[nltk_data] Downloading package stopwords to /Users/yegor/nltk_data...\n",
      "[nltk_data]   Package stopwords is already up-to-date!\n"
     ]
    }
   ],
   "source": [
    "import sys\n",
    "sys.path.append(\"..\")\n",
    "from sif_src.loader import download_ms_marco, load_data, save_processed_data\n",
    "from sif_src.preprocess_data import preprocess_text\n",
    "from sif_src.utils import load_glove, load_word_vectors\n",
    "from sif_src.sif import compute_word_frequencies, compute_sif_weights, compute_sif_embeddings, remove_pc\n",
    "from pathlib import Path\n",
    "import pandas as pd"
   ]
  },
  {
   "cell_type": "code",
   "execution_count": 4,
   "metadata": {},
   "outputs": [],
   "source": [
    "train_df = pd.read_pickle(\"../pickle_backups/marco_train_df2024-06-04T17.38.1717490321.pickle\")\n",
    "valid_df = pd.read_pickle(\"../pickle_backups/marco_valid_df2024-06-04T17.38.1717490321.pickle\")"
   ]
  },
  {
   "cell_type": "code",
   "execution_count": null,
   "metadata": {},
   "outputs": [],
   "source": [
    "glove_vectors = load_glove_vectors('wv/glove.6B.300d.txt')"
   ]
  },
  {
   "cell_type": "code",
   "execution_count": 14,
   "metadata": {},
   "outputs": [],
   "source": [
    "train_corpus = train_df['query'].tolist() + train_df['passages'].tolist()\n",
    "word_freq = compute_word_frequencies(train_corpus)\n",
    "sif_weights = compute_sif_weights(word_freq)\n",
    "\n"
   ]
  },
  {
   "cell_type": "code",
   "execution_count": 15,
   "metadata": {},
   "outputs": [
    {
     "ename": "NameError",
     "evalue": "name 'glove_vectors' is not defined",
     "output_type": "error",
     "traceback": [
      "\u001b[0;31m---------------------------------------------------------------------------\u001b[0m",
      "\u001b[0;31mNameError\u001b[0m                                 Traceback (most recent call last)",
      "Cell \u001b[0;32mIn[15], line 1\u001b[0m\n\u001b[0;32m----> 1\u001b[0m train_queries_sif \u001b[38;5;241m=\u001b[39m compute_sif_embeddings(train_df[\u001b[38;5;124m'\u001b[39m\u001b[38;5;124mquery\u001b[39m\u001b[38;5;124m'\u001b[39m]\u001b[38;5;241m.\u001b[39mtolist(), glove_vectors, sif_weights)\n\u001b[1;32m      2\u001b[0m train_passages_sif \u001b[38;5;241m=\u001b[39m compute_sif_embeddings(train_df[\u001b[38;5;124m'\u001b[39m\u001b[38;5;124mpassage\u001b[39m\u001b[38;5;124m'\u001b[39m]\u001b[38;5;241m.\u001b[39mtolist(), glove_vectors, sif_weights)\n\u001b[1;32m      3\u001b[0m valid_queries_sif \u001b[38;5;241m=\u001b[39m compute_sif_embeddings(valid_df[\u001b[38;5;124m'\u001b[39m\u001b[38;5;124mquery\u001b[39m\u001b[38;5;124m'\u001b[39m]\u001b[38;5;241m.\u001b[39mtolist(), glove_vectors, sif_weights)\n",
      "\u001b[0;31mNameError\u001b[0m: name 'glove_vectors' is not defined"
     ]
    }
   ],
   "source": [
    "train_queries_sif = compute_sif_embeddings(train_df['query'].tolist(), glove_vectors, sif_weights)\n",
    "train_passages_sif = compute_sif_embeddings(train_df['passage'].tolist(), glove_vectors, sif_weights)\n",
    "valid_queries_sif = compute_sif_embeddings(valid_df['query'].tolist(), glove_vectors, sif_weights)\n",
    "valid_passages_sif = compute_sif_embeddings(valid_df['passage'].tolist(), glove_vectors, sif_weights)"
   ]
  },
  {
   "cell_type": "code",
   "execution_count": null,
   "metadata": {},
   "outputs": [],
   "source": [
    "train_queries_sif = remove_pc(train_queries_sif)\n",
    "train_passages_sif = remove_pc(train_passages_sif)\n",
    "valid_queries_sif = remove_pc(valid_queries_sif)\n",
    "valid_passages_sif = remove_pc(valid_passages_sif)"
   ]
  },
  {
   "cell_type": "code",
   "execution_count": null,
   "metadata": {},
   "outputs": [],
   "source": [
    "import jax\n",
    "import jax.numpy as jnp\n",
    "from jax import grad, jit\n",
    "\n",
    "# Combine query and passage embeddings\n",
    "X_train_sif = jnp.concatenate([train_queries_sif, train_passages_sif], axis=1)\n",
    "X_valid_sif = jnp.concatenate([valid_queries_sif, valid_passages_sif], axis=1)\n",
    "y_train = jnp.array(train_df['label'].values)\n",
    "y_valid = jnp.array(valid_df['label'].values)\n",
    "\n",
    "# Define linear regression functions\n",
    "def predict(params, inputs):\n",
    "    return jnp.dot(inputs, params)\n",
    "\n",
    "def loss_fn(params, inputs, targets):\n",
    "    predictions = predict(params, inputs)\n",
    "    return jnp.mean((predictions - targets) ** 2)\n",
    "\n",
    "def update(params, inputs, targets, learning_rate=0.01):\n",
    "    grads = grad(loss_fn)(params, inputs, targets)\n",
    "    return params - learning_rate * grads\n",
    "\n",
    "# Train the model\n",
    "def train_model(X_train, y_train, num_epochs=100, learning_rate=0.01):\n",
    "    params = jnp.zeros(X_train.shape[1])\n",
    "    for epoch in range(num_epochs):\n",
    "        params = update(params, X_train, y_train, learning_rate)\n",
    "    return params\n",
    "\n",
    "params_sif = train_model(X_train_sif, y_train)\n",
    "\n",
    "# Evaluate the model\n",
    "def evaluate_model(params, X_valid, y_valid):\n",
    "    predictions = predict(params, X_valid)\n",
    "    return jnp.mean((predictions - y_valid) ** 2)\n",
    "\n",
    "mse_sif = evaluate_model(params_sif, X_valid_sif, y_valid)\n",
    "print(f\"SIF MSE: {mse_sif}\")\n"
   ]
  }
 ],
 "metadata": {
  "kernelspec": {
   "display_name": "base",
   "language": "python",
   "name": "python3"
  },
  "language_info": {
   "codemirror_mode": {
    "name": "ipython",
    "version": 3
   },
   "file_extension": ".py",
   "mimetype": "text/x-python",
   "name": "python",
   "nbconvert_exporter": "python",
   "pygments_lexer": "ipython3",
   "version": "3.11.8"
  }
 },
 "nbformat": 4,
 "nbformat_minor": 2
}
