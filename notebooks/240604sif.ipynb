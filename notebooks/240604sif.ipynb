{
 "cells": [
  {
   "cell_type": "code",
   "execution_count": null,
   "metadata": {},
   "outputs": [],
   "source": [
    "from sif_src.loader import download_ms_marco, load_data, save_processed_data\n",
    "from sif_src.preprocess_data import preprocess_text\n",
    "\n",
    "#download Marco\n",
    "\n",
    "data = load_data('data/raw/ms_marco.csv')\n",
    "\n",
    "data['processed_text'] = data['text'].apply(preprocess_text)\n",
    "\n",
    "save_processed_data(data, 'data/processed/ms_marco_processed.csv')\n"
   ]
  },
  {
   "cell_type": "code",
   "execution_count": null,
   "metadata": {},
   "outputs": [],
   "source": [
    "from sif_src.utils import load_word_vectors\n",
    "from sif_src.sif import compute_word_frequencies, compute_sif_weights, compute_sif_embeddings, remove_pc\n",
    "\n",
    "\n",
    "word_vectors = load_word_vectors('path_to_word_vectors.txt')\n",
    "\n",
    "corpus = data['processed_text'].tolist()\n",
    "\n",
    "word_freq = compute_word_frequencies(corpus)\n",
    "sif_weights = compute_sif_weights(word_freq)\n",
    "\n",
    "embeddings = compute_sif_embeddings(corpus, word_vectors, sif_weights)\n",
    "\n",
    "final_embeddings = remove_pc(embeddings)\n"
   ]
  }
 ],
 "metadata": {
  "kernelspec": {
   "display_name": "base",
   "language": "python",
   "name": "python3"
  },
  "language_info": {
   "name": "python",
   "version": "3.11.5"
  }
 },
 "nbformat": 4,
 "nbformat_minor": 2
}
