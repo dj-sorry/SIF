{
 "cells": [
  {
   "cell_type": "code",
   "execution_count": 17,
   "metadata": {},
   "outputs": [],
   "source": [
    "import sys\n",
    "sys.path.append(\"..\")\n",
    "from sif_src.loader import download_ms_marco, load_data, save_processed_data\n",
    "from sif_src.preprocess_data import preprocess_text\n",
    "from sif_src.utils import load_glove, load_glove_vectors\n",
    "from sif_src.sif import compute_word_frequencies, compute_sif_weights, compute_sif_embeddings, remove_pc\n",
    "from pathlib import Path\n",
    "import pandas as pd"
   ]
  },
  {
   "cell_type": "code",
   "execution_count": 2,
   "metadata": {},
   "outputs": [],
   "source": [
    "train_df = pd.read_pickle(\"../pickle_backups/marco_train_df2024-06-04T17.38.1717490321.pickle\")\n",
    "valid_df = pd.read_pickle(\"../pickle_backups/marco_valid_df2024-06-04T17.38.1717490321.pickle\")"
   ]
  },
  {
   "cell_type": "code",
   "execution_count": 3,
   "metadata": {},
   "outputs": [
    {
     "name": "stderr",
     "output_type": "stream",
     "text": [
      "Loading GloVe Vectors: 100%|██████████| 400000/400000 [01:03<00:00, 6292.96it/s]\n"
     ]
    }
   ],
   "source": [
    "glove_vectors = load_glove_vectors('../wv/glove.6B.300d.txt')"
   ]
  },
  {
   "cell_type": "code",
   "execution_count": 4,
   "metadata": {},
   "outputs": [],
   "source": [
    "train_df['passage_text'] = train_df['passages'].apply(lambda x: x['passage_text'])\n"
   ]
  },
  {
   "cell_type": "code",
   "execution_count": 29,
   "metadata": {},
   "outputs": [
    {
     "data": {
      "text/plain": [
       "0         [Since 2007, the RBA's outstanding reputation ...\n",
       "1         [In his younger years, Ronald Reagan was a mem...\n",
       "2         [Sydney, New South Wales, Australia is located...\n",
       "3         [In regards to tile installation costs, consum...\n",
       "4         [Conclusions: In adult body CT, dose to an org...\n",
       "                                ...                        \n",
       "891052    [Complete a Direct Dispute Form if you have in...\n",
       "891053    [Most of the city of Hitchcock is served by th...\n",
       "891054    [And with no waiting period, the treatment is ...\n",
       "891055    [Isaac Bell is the son of Ebenezer Bell and gr...\n",
       "891056    [ANIMALS. ANIMALS. The marine biome covers thr...\n",
       "Name: passage_text, Length: 891057, dtype: object"
      ]
     },
     "execution_count": 29,
     "metadata": {},
     "output_type": "execute_result"
    }
   ],
   "source": [
    "train_df['passage_text']"
   ]
  },
  {
   "cell_type": "code",
   "execution_count": 30,
   "metadata": {},
   "outputs": [],
   "source": [
    "passage_texts = [text for sublist in train_df['passage_text'] for text in sublist]\n",
    "train_corpus = train_df['query'].tolist() + passage_texts"
   ]
  },
  {
   "cell_type": "code",
   "execution_count": 13,
   "metadata": {},
   "outputs": [],
   "source": [
    "word_freq = compute_word_frequencies(train_corpus)\n",
    "sif_weights = compute_sif_weights(word_freq)"
   ]
  },
  {
   "cell_type": "code",
   "execution_count": 24,
   "metadata": {},
   "outputs": [
    {
     "data": {
      "text/plain": [
       "(6519006, 6519006)"
      ]
     },
     "execution_count": 24,
     "metadata": {},
     "output_type": "execute_result"
    }
   ],
   "source": [
    "len(sif_weights), len(word_freq)"
   ]
  },
  {
   "cell_type": "code",
   "execution_count": null,
   "metadata": {},
   "outputs": [],
   "source": []
  },
  {
   "cell_type": "code",
   "execution_count": null,
   "metadata": {},
   "outputs": [
    {
     "ename": "ValueError",
     "evalue": "Length of weights not compatible with specified axis.",
     "output_type": "error",
     "traceback": [
      "\u001b[0;31m---------------------------------------------------------------------------\u001b[0m",
      "\u001b[0;31mValueError\u001b[0m                                Traceback (most recent call last)",
      "Cell \u001b[0;32mIn[19], line 1\u001b[0m\n\u001b[0;32m----> 1\u001b[0m train_queries_sif \u001b[38;5;241m=\u001b[39m compute_sif_embeddings(train_df[\u001b[38;5;124m'\u001b[39m\u001b[38;5;124mquery\u001b[39m\u001b[38;5;124m'\u001b[39m]\u001b[38;5;241m.\u001b[39mtolist(), glove_vectors, sif_weights)\n\u001b[1;32m      2\u001b[0m train_passages_sif \u001b[38;5;241m=\u001b[39m compute_sif_embeddings(train_df[\u001b[38;5;124m'\u001b[39m\u001b[38;5;124mpassage_text\u001b[39m\u001b[38;5;124m'\u001b[39m], glove_vectors, sif_weights)\n",
      "File \u001b[0;32m~/Desktop/学校/S24/CompLing/2406_sif/SIF/notebooks/../sif_src/sif.py:25\u001b[0m, in \u001b[0;36mcompute_sif_embeddings\u001b[0;34m(corpus, word_vectors, sif_weights)\u001b[0m\n\u001b[1;32m     23\u001b[0m     vectors \u001b[38;5;241m=\u001b[39m jnp\u001b[38;5;241m.\u001b[39marray([word_vectors[word] \u001b[38;5;28;01mfor\u001b[39;00m word \u001b[38;5;129;01min\u001b[39;00m words \u001b[38;5;28;01mif\u001b[39;00m word \u001b[38;5;129;01min\u001b[39;00m word_vectors])\n\u001b[1;32m     24\u001b[0m     \u001b[38;5;28;01mif\u001b[39;00m vectors\u001b[38;5;241m.\u001b[39mshape[\u001b[38;5;241m0\u001b[39m] \u001b[38;5;241m>\u001b[39m \u001b[38;5;241m0\u001b[39m:  \u001b[38;5;66;03m# Ensure there are valid vectors\u001b[39;00m\n\u001b[0;32m---> 25\u001b[0m         weighted_avg \u001b[38;5;241m=\u001b[39m jnp\u001b[38;5;241m.\u001b[39maverage(vectors, axis\u001b[38;5;241m=\u001b[39m\u001b[38;5;241m0\u001b[39m, weights\u001b[38;5;241m=\u001b[39mweights)\n\u001b[1;32m     26\u001b[0m         embeddings\u001b[38;5;241m.\u001b[39mappend(weighted_avg)\n\u001b[1;32m     27\u001b[0m \u001b[38;5;28;01mreturn\u001b[39;00m jnp\u001b[38;5;241m.\u001b[39marray(embeddings)\n",
      "File \u001b[0;32m~/Desktop/25proj_current/scrapeua/.conda/lib/python3.11/site-packages/jax/_src/numpy/reductions.py:376\u001b[0m, in \u001b[0;36maverage\u001b[0;34m(a, axis, weights, returned, keepdims)\u001b[0m\n\u001b[1;32m    373\u001b[0m \u001b[38;5;129m@implements\u001b[39m(np\u001b[38;5;241m.\u001b[39maverage)\n\u001b[1;32m    374\u001b[0m \u001b[38;5;28;01mdef\u001b[39;00m \u001b[38;5;21maverage\u001b[39m(a: ArrayLike, axis: Axis \u001b[38;5;241m=\u001b[39m \u001b[38;5;28;01mNone\u001b[39;00m, weights: ArrayLike \u001b[38;5;241m|\u001b[39m \u001b[38;5;28;01mNone\u001b[39;00m \u001b[38;5;241m=\u001b[39m \u001b[38;5;28;01mNone\u001b[39;00m,\n\u001b[1;32m    375\u001b[0m             returned: \u001b[38;5;28mbool\u001b[39m \u001b[38;5;241m=\u001b[39m \u001b[38;5;28;01mFalse\u001b[39;00m, keepdims: \u001b[38;5;28mbool\u001b[39m \u001b[38;5;241m=\u001b[39m \u001b[38;5;28;01mFalse\u001b[39;00m) \u001b[38;5;241m-\u001b[39m\u001b[38;5;241m>\u001b[39m Array \u001b[38;5;241m|\u001b[39m \u001b[38;5;28mtuple\u001b[39m[Array, Array]:\n\u001b[0;32m--> 376\u001b[0m   \u001b[38;5;28;01mreturn\u001b[39;00m _average(a, _ensure_optional_axes(axis), weights, returned, keepdims)\n",
      "    \u001b[0;31m[... skipping hidden 11 frame]\u001b[0m\n",
      "File \u001b[0;32m~/Desktop/25proj_current/scrapeua/.conda/lib/python3.11/site-packages/jax/_src/numpy/reductions.py:417\u001b[0m, in \u001b[0;36m_average\u001b[0;34m(a, axis, weights, returned, keepdims)\u001b[0m\n\u001b[1;32m    415\u001b[0m   \u001b[38;5;28;01mraise\u001b[39;00m \u001b[38;5;167;01mValueError\u001b[39;00m(\u001b[38;5;124m\"\u001b[39m\u001b[38;5;124mSingle axis expected when shapes of a and weights differ\u001b[39m\u001b[38;5;124m\"\u001b[39m)\n\u001b[1;32m    416\u001b[0m \u001b[38;5;28;01melif\u001b[39;00m \u001b[38;5;129;01mnot\u001b[39;00m core\u001b[38;5;241m.\u001b[39mdefinitely_equal(weights_shape[\u001b[38;5;241m0\u001b[39m], a_shape[axis]):\n\u001b[0;32m--> 417\u001b[0m   \u001b[38;5;28;01mraise\u001b[39;00m \u001b[38;5;167;01mValueError\u001b[39;00m(\u001b[38;5;124m\"\u001b[39m\u001b[38;5;124mLength of weights not \u001b[39m\u001b[38;5;124m\"\u001b[39m\n\u001b[1;32m    418\u001b[0m                    \u001b[38;5;124m\"\u001b[39m\u001b[38;5;124mcompatible with specified axis.\u001b[39m\u001b[38;5;124m\"\u001b[39m)\n\u001b[1;32m    420\u001b[0m weights \u001b[38;5;241m=\u001b[39m _broadcast_to(weights, (a_ndim \u001b[38;5;241m-\u001b[39m \u001b[38;5;241m1\u001b[39m) \u001b[38;5;241m*\u001b[39m (\u001b[38;5;241m1\u001b[39m,) \u001b[38;5;241m+\u001b[39m weights_shape)\n\u001b[1;32m    421\u001b[0m weights \u001b[38;5;241m=\u001b[39m _moveaxis(weights, \u001b[38;5;241m-\u001b[39m\u001b[38;5;241m1\u001b[39m, axis)\n",
      "\u001b[0;31mValueError\u001b[0m: Length of weights not compatible with specified axis."
     ]
    }
   ],
   "source": [
    "train_queries_sif = compute_sif_embeddings(train_df['query'].tolist(), glove_vectors, sif_weights)\n",
    "train_passages_sif = compute_sif_embeddings(train_df['passage_texts'], glove_vectors, sif_weights)"
   ]
  },
  {
   "cell_type": "code",
   "execution_count": null,
   "metadata": {},
   "outputs": [],
   "source": [
    "valid_queries_sif = compute_sif_embeddings(valid_df['query'].tolist(), glove_vectors, sif_weights)\n",
    "valid_passages_sif = compute_sif_embeddings(passage_texts.tolist(), glove_vectors, sif_weights)"
   ]
  },
  {
   "cell_type": "code",
   "execution_count": null,
   "metadata": {},
   "outputs": [],
   "source": [
    "train_queries_sif = remove_pc(train_queries_sif)\n",
    "train_passages_sif = remove_pc(train_passages_sif)\n",
    "valid_queries_sif = remove_pc(valid_queries_sif)\n",
    "valid_passages_sif = remove_pc(valid_passages_sif)"
   ]
  },
  {
   "cell_type": "code",
   "execution_count": null,
   "metadata": {},
   "outputs": [],
   "source": [
    "import jax\n",
    "import jax.numpy as jnp\n",
    "from jax import grad, jit\n",
    "\n",
    "# Combine query and passage embeddings\n",
    "X_train_sif = jnp.concatenate([train_queries_sif, train_passages_sif], axis=1)\n",
    "X_valid_sif = jnp.concatenate([valid_queries_sif, valid_passages_sif], axis=1)\n",
    "y_train = jnp.array(train_df['label'].values)\n",
    "y_valid = jnp.array(valid_df['label'].values)\n",
    "\n",
    "# Define linear regression functions\n",
    "def predict(params, inputs):\n",
    "    return jnp.dot(inputs, params)\n",
    "\n",
    "def loss_fn(params, inputs, targets):\n",
    "    predictions = predict(params, inputs)\n",
    "    return jnp.mean((predictions - targets) ** 2)\n",
    "\n",
    "def update(params, inputs, targets, learning_rate=0.01):\n",
    "    grads = grad(loss_fn)(params, inputs, targets)\n",
    "    return params - learning_rate * grads\n",
    "\n",
    "# Train the model\n",
    "def train_model(X_train, y_train, num_epochs=100, learning_rate=0.01):\n",
    "    params = jnp.zeros(X_train.shape[1])\n",
    "    for epoch in range(num_epochs):\n",
    "        params = update(params, X_train, y_train, learning_rate)\n",
    "    return params\n",
    "\n",
    "\n"
   ]
  },
  {
   "cell_type": "code",
   "execution_count": null,
   "metadata": {},
   "outputs": [],
   "source": [
    "params_sif = train_model(X_train_sif, y_train)"
   ]
  },
  {
   "cell_type": "code",
   "execution_count": null,
   "metadata": {},
   "outputs": [],
   "source": [
    "# Evaluate the model\n",
    "def evaluate_model(params, X_valid, y_valid):\n",
    "    predictions = predict(params, X_valid)\n",
    "    return jnp.mean((predictions - y_valid) ** 2)\n",
    "\n",
    "mse_sif = evaluate_model(params_sif, X_valid_sif, y_valid)\n",
    "print(f\"SIF MSE: {mse_sif}\")"
   ]
  }
 ],
 "metadata": {
  "kernelspec": {
   "display_name": "base",
   "language": "python",
   "name": "python3"
  },
  "language_info": {
   "codemirror_mode": {
    "name": "ipython",
    "version": 3
   },
   "file_extension": ".py",
   "mimetype": "text/x-python",
   "name": "python",
   "nbconvert_exporter": "python",
   "pygments_lexer": "ipython3",
   "version": "3.11.8"
  }
 },
 "nbformat": 4,
 "nbformat_minor": 2
}
