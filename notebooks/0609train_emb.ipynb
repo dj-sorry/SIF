{
 "cells": [
  {
   "cell_type": "code",
   "execution_count": null,
   "metadata": {},
   "outputs": [],
   "source": [
    "import pandas as pd\n",
    "import sys\n",
    "sys.path.append(\"..\")\n",
    "import pandas as pd\n",
    "from pathlib import Path\n",
    "import numpy as np\n",
    "import pickle\n",
    "from sif_src.glove import load_glove_vectors, calculate_glove_corpus_embeddings\n",
    "from sif_src.sif import flatten, compute_sif_embeddings_queries, compute_sif_embeddings_texts, compute_word_frequencies, compute_sif_weights, remove_pc_sif\n",
    "import tqdm\n",
    "from collections import defaultdict, Counter\n",
    "from collections.abc import Iterable\n",
    "from sklearn.decomposition import TruncatedSVD\n"
   ]
  },
  {
   "cell_type": "markdown",
   "metadata": {},
   "source": [
    "Calculate and pickle both embeddings for training set"
   ]
  },
  {
   "cell_type": "code",
   "execution_count": null,
   "metadata": {},
   "outputs": [],
   "source": [
    "train_df = pd.read_pickle(\"../pickle_backups/marco_train_df2024-06-04T17.38.1717490321.pickle\")\n",
    "train_passages = train_df[\"passages\"]\n",
    "train_texts = [passage[\"passage_text\"] for passage in train_passages]\n",
    "train_df[\"texts\"] = train_texts\n",
    "\n",
    "#homogenize MS MARCO columns\n",
    "train_df['query'] = train_df['query'].apply(lambda x: [x])\n",
    "\n",
    "# Load GloVe vectors\n",
    "glove_vectors = load_glove_vectors('../wv/glove.6B.50d.txt')\n"
   ]
  },
  {
   "cell_type": "code",
   "execution_count": null,
   "metadata": {},
   "outputs": [],
   "source": [
    "queries = train_df[\"query\"]\n",
    "texts = train_df[\"texts\"]\n",
    "word_freq = compute_word_frequencies(queries + texts)"
   ]
  },
  {
   "cell_type": "markdown",
   "metadata": {},
   "source": [
    "compute SIF embeddings"
   ]
  },
  {
   "cell_type": "code",
   "execution_count": null,
   "metadata": {},
   "outputs": [],
   "source": [
    "sif_weights = compute_sif_weights(word_freq)"
   ]
  },
  {
   "cell_type": "code",
   "execution_count": null,
   "metadata": {},
   "outputs": [],
   "source": [
    "query_sif_embeddings = compute_sif_embeddings_queries(queries, glove_vectors, sif_weights)\n",
    "texts_sif_embeddings = compute_sif_embeddings_texts(texts, glove_vectors, sif_weights)"
   ]
  },
  {
   "cell_type": "code",
   "execution_count": null,
   "metadata": {},
   "outputs": [],
   "source": [
    "texts_sif_embeddings = remove_pc_sif(texts_sif_embeddings, alpha=0.001)"
   ]
  },
  {
   "cell_type": "code",
   "execution_count": null,
   "metadata": {},
   "outputs": [],
   "source": [
    "train_df[\"sif_queries\"] = list(query_sif_embeddings)\n",
    "train_df[\"sif_texts\"] = list(texts_sif_embeddings)"
   ]
  },
  {
   "cell_type": "code",
   "execution_count": null,
   "metadata": {},
   "outputs": [],
   "source": [
    "#queries = train_df[\"query\"]\n",
    "#texts = train_df[\"texts\"]\n",
    "\n",
    "query_glove_embeddings = calculate_glove_corpus_embeddings(queries, glove_vectors)\n"
   ]
  },
  {
   "cell_type": "code",
   "execution_count": null,
   "metadata": {},
   "outputs": [],
   "source": [
    "texts_glove_embeddings = calculate_glove_corpus_embeddings(texts, glove_vectors)"
   ]
  },
  {
   "cell_type": "code",
   "execution_count": null,
   "metadata": {},
   "outputs": [],
   "source": [
    "train_df[\"glove_queries\"] = list(query_glove_embeddings)\n",
    "train_df[\"glove_texts\"] = list(texts_glove_embeddings)"
   ]
  },
  {
   "cell_type": "code",
   "execution_count": null,
   "metadata": {},
   "outputs": [],
   "source": [
    "import pickle\n",
    "from datetime import datetime\n",
    "\n",
    "TIMESTAMP = datetime.now()\n",
    "OUTPUT_PATH = Path(\"../pickle_backups\")\n",
    "TIMESTAMP_STR = TIMESTAMP.isoformat().replace(\":\", \".\")\n",
    "\n",
    "with open(OUTPUT_PATH / \n",
    "    f\"train_embeddings{TIMESTAMP.strftime(r'%Y-%m-%dT%H.%M.%s')}.pickle\",\n",
    "    \"wb\"\n",
    ") as f:\n",
    "    pickle.dump(train_df, f)"
   ]
  },
  {
   "cell_type": "code",
   "execution_count": null,
   "metadata": {},
   "outputs": [],
   "source": []
  }
 ],
 "metadata": {
  "kernelspec": {
   "display_name": "base",
   "language": "python",
   "name": "python3"
  },
  "language_info": {
   "name": "python",
   "version": "3.11.5"
  }
 },
 "nbformat": 4,
 "nbformat_minor": 2
}
