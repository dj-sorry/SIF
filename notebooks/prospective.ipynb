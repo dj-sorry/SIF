{
 "cells": [
  {
   "cell_type": "code",
   "execution_count": null,
   "metadata": {},
   "outputs": [],
   "source": [
    "import numpy as np\n",
    "\n",
    "# Load or generate your SIF and GloVe embeddings for queries and answers\n",
    "# For example:\n",
    "sif_query_embeddings = [...] # Load or compute SIF embeddings for queries\n",
    "sif_answer_embeddings = [...] # Load or compute SIF embeddings for answers\n",
    "glove_query_embeddings = [...] # Load or compute GloVe embeddings for queries\n",
    "glove_answer_embeddings = [...] # Load or compute GloVe embeddings for answers\n",
    "\n",
    "# Load or generate the answers for each query\n",
    "query_answers = [\n",
    "    {\"query_id\": 1, \"answers\": [answer_id_1, answer_id_2, ...]},\n",
    "    {\"query_id\": 2, \"answers\": [answer_id_3, answer_id_4, ...]},\n",
    "    ...\n",
    "]\n",
    "\n",
    "# Load or generate the ground truth relevant answer IDs for each query\n",
    "relevant_answer_ids = [\n",
    "    {\"query_id\": 1, \"relevant_answers\": [answer_id_1, answer_id_3, ...]},\n",
    "    {\"query_id\": 2, \"relevant_answers\": [answer_id_2, answer_id_5, ...]},\n",
    "    ...\n",
    "]\n",
    "\n",
    "# Generate ranked_results and relevant_answers\n",
    "sif_ranked_results = []\n",
    "glove_ranked_results = []\n",
    "relevant_answers = []\n",
    "\n",
    "for query_data, rel_ans_data in zip(query_answers, relevant_answer_ids):\n",
    "    query_id = query_data[\"query_id\"]\n",
    "    answers = query_data[\"answers\"]\n",
    "    relevant_answer_set = set(rel_ans_data[\"relevant_answers\"])\n",
    "\n",
    "    # Compute similarity scores for SIF embeddings\n",
    "    sif_similarities = [(answer_id, np.dot(sif_query_embeddings[query_id], sif_answer_embeddings[answer_id]))\n",
    "                        for answer_id in answers]\n",
    "    sif_ranked_answers = [answer_id for answer_id, _ in sorted(sif_similarities, key=lambda x: x[1], reverse=True)]\n",
    "    sif_ranked_results.append(sif_ranked_answers)\n",
    "\n",
    "    # Compute similarity scores for GloVe embeddings\n",
    "    glove_similarities = [(answer_id, np.dot(glove_query_embeddings[query_id], glove_answer_embeddings[answer_id]))\n",
    "                          for answer_id in answers]\n",
    "    glove_ranked_answers = [answer_id for answer_id, _ in sorted(glove_similarities, key=lambda x: x[1], reverse=True)]\n",
    "    glove_ranked_results.append(glove_ranked_answers)\n",
    "\n",
    "    relevant_answers.append(relevant_answer_set)"
   ]
  }
 ],
 "metadata": {
  "language_info": {
   "name": "python"
  }
 },
 "nbformat": 4,
 "nbformat_minor": 2
}
