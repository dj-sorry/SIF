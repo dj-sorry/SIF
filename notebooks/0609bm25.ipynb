{
 "cells": [
  {
   "cell_type": "code",
   "execution_count": 9,
   "metadata": {},
   "outputs": [],
   "source": [
    "import pandas as pd\n",
    "import sys\n",
    "sys.path.append(\"..\")\n",
    "import numpy as np\n",
    "from rank_bm25 import BM25Okapi\n",
    "import numpy as np\n",
    "import pandas as pd\n",
    "from sklearn.feature_extraction.text import TfidfVectorizer\n",
    "from rank_bm25 import BM25Okapi\n",
    "from sklearn.metrics import average_precision_score\n",
    "from scipy.stats import rankdata"
   ]
  },
  {
   "cell_type": "code",
   "execution_count": 10,
   "metadata": {},
   "outputs": [],
   "source": [
    "valid_emb = pd.read_pickle(\"../pickle_backups/valid_embeddings2024-06-09T13.45.1717908334.pickle\")"
   ]
  },
  {
   "cell_type": "code",
   "execution_count": 11,
   "metadata": {},
   "outputs": [],
   "source": [
    "# Sample function to calculate similarity scores using GloVe or SIF embeddings\n",
    "def calculate_similarity_scores(query_embedding, passage_embeddings):\n",
    "    similarity_scores = []\n",
    "    for passage_embedding in passage_embeddings:\n",
    "        # Calculate cosine similarity between query and passage embeddings\n",
    "        similarity = np.dot(query_embedding, passage_embedding) / (np.linalg.norm(query_embedding) * np.linalg.norm(passage_embedding))\n",
    "        similarity_scores.append(similarity)\n",
    "    return similarity_scores\n",
    "\n",
    "# Sample function to rank texts using BM25 algorithm\n",
    "def rank_texts_bm25(queries, texts):\n",
    "    bm25 = BM25Okapi(texts)\n",
    "    ranked_texts = [bm25.get_scores(query) for query in queries]\n",
    "    return ranked_texts\n",
    "\n",
    "def rank_texts_tfidf(queries, texts):\n",
    "    tfidf_vectorizer = TfidfVectorizer()\n",
    "    tfidf_matrix = tfidf_vectorizer.fit_transform(texts)\n",
    "    ranked_texts = [np.dot(tfidf_vectorizer.transform([query]), tfidf_matrix.T) for query in queries]\n",
    "    return ranked_texts\n"
   ]
  },
  {
   "cell_type": "code",
   "execution_count": 12,
   "metadata": {},
   "outputs": [
    {
     "name": "stderr",
     "output_type": "stream",
     "text": [
      "/var/folders/6v/24g4rbvs2j3g23qmn8y0t_f80000gn/T/ipykernel_54267/2067005964.py:6: RuntimeWarning: invalid value encountered in divide\n",
      "  similarity = np.dot(query_embedding, passage_embedding) / (np.linalg.norm(query_embedding) * np.linalg.norm(passage_embedding))\n",
      "/var/folders/6v/24g4rbvs2j3g23qmn8y0t_f80000gn/T/ipykernel_54267/2067005964.py:6: RuntimeWarning: invalid value encountered in scalar divide\n",
      "  similarity = np.dot(query_embedding, passage_embedding) / (np.linalg.norm(query_embedding) * np.linalg.norm(passage_embedding))\n"
     ]
    }
   ],
   "source": [
    "queries = valid_emb['query']\n",
    "texts = valid_emb['texts']\n",
    "\n",
    "# Calculate similarity scores using GloVe embeddings\n",
    "glove_queries = valid_emb['glove_queries']\n",
    "glove_texts = valid_emb['glove_texts']\n",
    "glove_similarity_scores = [calculate_similarity_scores(query_embedding, passage_embeddings) for query_embedding, passage_embeddings in zip(glove_queries, glove_texts)]\n",
    "\n",
    "# Calculate similarity scores using SIF embeddings\n",
    "sif_queries = valid_emb['sif_queries']\n",
    "sif_texts = valid_emb['sif_texts']\n",
    "sif_similarity_scores = [calculate_similarity_scores(query_embedding, passage_embeddings) for query_embedding, passage_embeddings in zip(sif_queries, sif_texts)]"
   ]
  },
  {
   "cell_type": "code",
   "execution_count": 23,
   "metadata": {},
   "outputs": [
    {
     "data": {
      "text/plain": [
       "{'is_selected': [0, 0, 0, 1, 0, 0, 0, 0, 0],\n",
       " 'passage_text': [\"Her 1963 album Etta James Rocks the House, which was cut at Nashville's New Era club, also gave her career a boost. She had other big hits in the 1960s, but mainly on the R&B charts. The song Pushover was a hit for her in 1963.\",\n",
       "  'Etta James. Singer, songwriter. Etta James was once among the most woefully overlooked figures in the history of blues and rock. She began finally coming into her own in the 1990s, receiving industry awards that confirmed her status as one of the matriarchs of modern music.',\n",
       "  'James is the winner of four Grammys and seventeen Blues Music Awards. She was inducted into the Rock & Roll Hall of Fame in 1993, the Blues Hall of Fame in 2001, and the Grammy Hall of Fame both in 1999 and 2008. In the 1950s and 60s, she had her biggest success as a blues and R&B singer.',\n",
       "  \"It was that year that the young singer became Etta James (an shortened version of her first name) and her vocal group was dubbed the Peaches (also Etta's nickname). Soon after, James launched her solo career with such hits as Good Rockin' Daddy in 1955.\",\n",
       "  \"James's sons also acknowledged that Etta's health was declining and was receiving care at her Riverside, California, home. Etta James died at her home in Riverside, California, on January 20, 2012. Today, she continues to be is considered one of music's most dynamic singers.\",\n",
       "  'Etta James sang blues, jazz, country, gospel and pop hits beginning in the early 1950s, from the suggestive dancehall favorite Roll With Me, Henry to her signature ballad At Last.. She grew up in Los Angeles and San Francisco and began singing professionally when she was a teenager.',\n",
       "  'In 1974, when Donto James was 6, he went to visit his mother, R&B icon Etta James, in the Tarzana Psychiatric Hospital after she’d been sentenced to drug treatment instead of prison on a heroin charge.',\n",
       "  'Etta James through the years – Etta James, here performing at the New Orleans Jazz & Heritage Festival in 2009, died Friday, January 20, due to complications from leukeimia, said her longtime friend and manager, Lupe De Leon. The singer was 73.',\n",
       "  'Three-time Grammy winner singer Etta James, a pioneer of 1950s rhythm-and-blues and rock music known for her show-stopping hit At Last, died on Friday 20 January at the age of 73.'],\n",
       " 'url': ['http://www.imdb.com/character/ch0116504/bio',\n",
       "  'http://www.encyclopedia.com/topic/Etta_James.aspx',\n",
       "  'http://www.imdb.com/character/ch0116504/bio',\n",
       "  'http://www.biography.com/people/etta-james-9542558',\n",
       "  'http://www.biography.com/people/etta-james-9542558',\n",
       "  'http://www.factmonster.com/biography/var/ettajames.html',\n",
       "  'http://www.thedailybeast.com/articles/2012/11/15/etta-james-s-son-donto-says-addiction-was-part-of-famed-singer-s-life.html',\n",
       "  'http://www.cnn.com/2012/01/20/showbiz/etta-james-obit/index.html',\n",
       "  'http://www.telegraph.co.uk/culture/music/9028676/Etta-James-A-life-in-music.html']}"
      ]
     },
     "execution_count": 23,
     "metadata": {},
     "output_type": "execute_result"
    }
   ],
   "source": [
    "valid_emb['texts'][130]"
   ]
  },
  {
   "cell_type": "code",
   "execution_count": 22,
   "metadata": {},
   "outputs": [
    {
     "data": {
      "text/plain": [
       "[array([0.88580183]),\n",
       " array([0.84321393]),\n",
       " array([0.84622557]),\n",
       " array([0.88694176]),\n",
       " array([0.8716447]),\n",
       " array([0.88665299]),\n",
       " array([0.84825356]),\n",
       " array([0.89633028]),\n",
       " array([0.8546916])]"
      ]
     },
     "execution_count": 22,
     "metadata": {},
     "output_type": "execute_result"
    }
   ],
   "source": [
    "glove_similarity_scores[130]"
   ]
  },
  {
   "cell_type": "code",
   "execution_count": 13,
   "metadata": {},
   "outputs": [
    {
     "ename": "KeyboardInterrupt",
     "evalue": "",
     "output_type": "error",
     "traceback": [
      "\u001b[0;31m---------------------------------------------------------------------------\u001b[0m",
      "\u001b[0;31mKeyboardInterrupt\u001b[0m                         Traceback (most recent call last)",
      "Cell \u001b[0;32mIn[13], line 2\u001b[0m\n\u001b[1;32m      1\u001b[0m \u001b[38;5;66;03m# Rank texts using BM25 with GloVe embeddings\u001b[39;00m\n\u001b[0;32m----> 2\u001b[0m glove_ranked_texts_bm25 \u001b[38;5;241m=\u001b[39m rank_texts_bm25(queries, texts)\n\u001b[1;32m      4\u001b[0m \u001b[38;5;66;03m# Rank texts using BM25 with SIF embeddings\u001b[39;00m\n\u001b[1;32m      5\u001b[0m sif_ranked_texts_bm25 \u001b[38;5;241m=\u001b[39m rank_texts_bm25(queries, texts)\n",
      "Cell \u001b[0;32mIn[11], line 13\u001b[0m, in \u001b[0;36mrank_texts_bm25\u001b[0;34m(queries, texts)\u001b[0m\n\u001b[1;32m     11\u001b[0m \u001b[38;5;28;01mdef\u001b[39;00m \u001b[38;5;21mrank_texts_bm25\u001b[39m(queries, texts):\n\u001b[1;32m     12\u001b[0m     bm25 \u001b[38;5;241m=\u001b[39m BM25Okapi(texts)\n\u001b[0;32m---> 13\u001b[0m     ranked_texts \u001b[38;5;241m=\u001b[39m [bm25\u001b[38;5;241m.\u001b[39mget_scores(query) \u001b[38;5;28;01mfor\u001b[39;00m query \u001b[38;5;129;01min\u001b[39;00m queries]\n\u001b[1;32m     14\u001b[0m     \u001b[38;5;28;01mreturn\u001b[39;00m ranked_texts\n",
      "Cell \u001b[0;32mIn[11], line 13\u001b[0m, in \u001b[0;36m<listcomp>\u001b[0;34m(.0)\u001b[0m\n\u001b[1;32m     11\u001b[0m \u001b[38;5;28;01mdef\u001b[39;00m \u001b[38;5;21mrank_texts_bm25\u001b[39m(queries, texts):\n\u001b[1;32m     12\u001b[0m     bm25 \u001b[38;5;241m=\u001b[39m BM25Okapi(texts)\n\u001b[0;32m---> 13\u001b[0m     ranked_texts \u001b[38;5;241m=\u001b[39m [bm25\u001b[38;5;241m.\u001b[39mget_scores(query) \u001b[38;5;28;01mfor\u001b[39;00m query \u001b[38;5;129;01min\u001b[39;00m queries]\n\u001b[1;32m     14\u001b[0m     \u001b[38;5;28;01mreturn\u001b[39;00m ranked_texts\n",
      "File \u001b[0;32m~/Desktop/25proj_current/scrapeua/.conda/lib/python3.11/site-packages/rank_bm25.py:116\u001b[0m, in \u001b[0;36mBM25Okapi.get_scores\u001b[0;34m(self, query)\u001b[0m\n\u001b[1;32m    108\u001b[0m \u001b[38;5;250m\u001b[39m\u001b[38;5;124;03m\"\"\"\u001b[39;00m\n\u001b[1;32m    109\u001b[0m \u001b[38;5;124;03mThe ATIRE BM25 variant uses an idf function which uses a log(idf) score. To prevent negative idf scores,\u001b[39;00m\n\u001b[1;32m    110\u001b[0m \u001b[38;5;124;03mthis algorithm also adds a floor to the idf value of epsilon.\u001b[39;00m\n\u001b[0;32m   (...)\u001b[0m\n\u001b[1;32m    113\u001b[0m \u001b[38;5;124;03m:return:\u001b[39;00m\n\u001b[1;32m    114\u001b[0m \u001b[38;5;124;03m\"\"\"\u001b[39;00m\n\u001b[1;32m    115\u001b[0m score \u001b[38;5;241m=\u001b[39m np\u001b[38;5;241m.\u001b[39mzeros(\u001b[38;5;28mself\u001b[39m\u001b[38;5;241m.\u001b[39mcorpus_size)\n\u001b[0;32m--> 116\u001b[0m doc_len \u001b[38;5;241m=\u001b[39m np\u001b[38;5;241m.\u001b[39marray(\u001b[38;5;28mself\u001b[39m\u001b[38;5;241m.\u001b[39mdoc_len)\n\u001b[1;32m    117\u001b[0m \u001b[38;5;28;01mfor\u001b[39;00m q \u001b[38;5;129;01min\u001b[39;00m query:\n\u001b[1;32m    118\u001b[0m     q_freq \u001b[38;5;241m=\u001b[39m np\u001b[38;5;241m.\u001b[39marray([(doc\u001b[38;5;241m.\u001b[39mget(q) \u001b[38;5;129;01mor\u001b[39;00m \u001b[38;5;241m0\u001b[39m) \u001b[38;5;28;01mfor\u001b[39;00m doc \u001b[38;5;129;01min\u001b[39;00m \u001b[38;5;28mself\u001b[39m\u001b[38;5;241m.\u001b[39mdoc_freqs])\n",
      "\u001b[0;31mKeyboardInterrupt\u001b[0m: "
     ]
    }
   ],
   "source": [
    "# Sample function to rank texts using BM25 algorithm\n",
    "def rank_texts_bm25(queries, texts):\n",
    "    bm25 = BM25Okapi(texts)\n",
    "    ranked_texts = [bm25.get_scores(query) for query in queries]\n",
    "    return ranked_texts\n",
    "\n",
    "# Sample function to rank texts using TF-IDF algorithm\n",
    "def rank_texts_tfidf(queries, texts):\n",
    "    tfidf_vectorizer = TfidfVectorizer()\n",
    "    tfidf_matrix = tfidf_vectorizer.fit_transform(texts)\n",
    "    ranked_texts = [np.dot(tfidf_vectorizer.transform([query]), tfidf_matrix.T) for query in queries]\n",
    "    return ranked_texts\n",
    "\n",
    "# Rank texts using BM25 with GloVe embeddings\n",
    "glove_ranked_texts_bm25 = rank_texts_bm25(queries, texts)\n",
    "\n",
    "# Rank texts using BM25 with SIF embeddings\n",
    "sif_ranked_texts_bm25 = rank_texts_bm25(queries, texts)\n",
    "\n",
    "# Rank texts using TF-IDF with GloVe embeddings\n",
    "glove_ranked_texts_tfidf = rank_texts_tfidf(queries, texts)\n",
    "\n",
    "# Rank texts using TF-IDF with SIF embeddings\n",
    "sif_ranked_texts_tfidf = rank_texts_tfidf(queries, texts)\n"
   ]
  },
  {
   "cell_type": "code",
   "execution_count": null,
   "metadata": {},
   "outputs": [],
   "source": [
    "# Sample code for evaluation using Mean Average Precision (MAP)\n",
    "def evaluate_map(ranked_texts, true_passage_indices):\n",
    "    average_precisions = []\n",
    "    for ranked_list, true_index in zip(ranked_texts, true_passage_indices):\n",
    "        average_precision = average_precision_score(true_index, ranked_list)\n",
    "        average_precisions.append(average_precision)\n",
    "    mean_average_precision = np.mean(average_precisions)\n",
    "    return mean_average_precision\n",
    "\n",
    "# Sample code for evaluation using Mean Reciprocal Rank (MRR)\n",
    "def evaluate_mrr(ranked_texts, true_passage_indices):\n",
    "    reciprocal_ranks = []\n",
    "    for ranked_list, true_index in zip(ranked_texts, true_passage_indices):\n",
    "        reciprocal_rank = reciprocal_rank_score(true_index, ranked_list)\n",
    "        reciprocal_ranks.append(reciprocal_rank)\n",
    "    mean_reciprocal_rank = np.mean(reciprocal_ranks)\n",
    "    return mean_reciprocal_rank\n",
    "\n",
    "# Evaluate ranking performance using MAP\n",
    "map_glove_bm25 = evaluate_map(glove_ranked_texts_bm25, valid_emb['true_passage_indices'])\n",
    "map_sif_bm25 = evaluate_map(sif_ranked_texts_bm25, valid_emb['true_passage_indices'])\n",
    "map_glove_tfidf = evaluate_map(glove_ranked_texts_tfidf, valid_emb['true_passage_indices'])\n",
    "map_sif_tfidf = evaluate_map(sif_ranked_texts_tfidf, valid_emb['true_passage_indices'])\n",
    "\n",
    "# Evaluate ranking performance using MRR\n",
    "mrr_glove_bm25 = evaluate_mrr(glove_ranked_texts_bm25, valid_emb['true_passage_indices'])\n",
    "mrr_sif_bm25 = evaluate_mrr(sif_ranked_texts_bm25, valid_emb['true_passage_indices'])\n",
    "mrr_glove_tfidf = evaluate_mrr(glove_ranked_texts_tfidf, valid_emb['true_passage_indices'])\n",
    "mrr_sif_tfidf = evaluate_mrr(sif_ranked_texts_tfidf, valid_emb['true_passage_indices'])\n",
    "\n",
    "# Print evaluation results\n",
    "print(\"MAP - GloVe with BM25:\", map_glove_bm25)\n",
    "print(\"MAP - SIF with BM25:\", map_sif_bm25)\n",
    "print(\"MAP - GloVe with TF-IDF:\", map_glove_tfidf)\n",
    "print(\"MAP - SIF with TF-IDF:\", map_sif_tfidf)\n",
    "print(\"MRR - GloVe with BM25:\", mrr_glove_bm25)\n",
    "print(\"MRR - SIF with BM25:\", mrr_sif_bm25)\n",
    "print(\"MRR - GloVe with TF-IDF:\", mrr_glove_tfidf)\n",
    "print(\"MRR - SIF with TF-IDF:\", mrr_sif_tfidf)"
   ]
  },
  {
   "cell_type": "code",
   "execution_count": null,
   "metadata": {},
   "outputs": [],
   "source": [
    "textstextstextstextstextstextstextstextstextstextstextstextstextstextstextstextstextstextstextstextstextstextstextstextstextstextstextstexts"
   ]
  }
 ],
 "metadata": {
  "kernelspec": {
   "display_name": "base",
   "language": "python",
   "name": "python3"
  },
  "language_info": {
   "codemirror_mode": {
    "name": "ipython",
    "version": 3
   },
   "file_extension": ".py",
   "mimetype": "text/x-python",
   "name": "python",
   "nbconvert_exporter": "python",
   "pygments_lexer": "ipython3",
   "version": "3.11.8"
  }
 },
 "nbformat": 4,
 "nbformat_minor": 2
}
