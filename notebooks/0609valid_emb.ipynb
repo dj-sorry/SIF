{
 "cells": [
  {
   "cell_type": "code",
   "execution_count": 1,
   "metadata": {},
   "outputs": [],
   "source": [
    "import pandas as pd\n",
    "import sys\n",
    "sys.path.append(\"..\")\n",
    "import pandas as pd\n",
    "from pathlib import Path\n",
    "import numpy as np\n",
    "import pickle\n",
    "from sif_src.glove import load_glove_vectors, calculate_glove_corpus_embeddings\n",
    "from sif_src.sif import flatten, compute_sif_embeddings_queries, compute_sif_embeddings_texts, compute_word_frequencies, compute_sif_weights, remove_pc_sif\n",
    "import tqdm\n",
    "from collections import defaultdict, Counter\n",
    "from collections.abc import Iterable\n",
    "from sklearn.decomposition import TruncatedSVD\n"
   ]
  },
  {
   "cell_type": "markdown",
   "metadata": {},
   "source": [
    "Calculate and pickle both embeddings for validation set"
   ]
  },
  {
   "cell_type": "code",
   "execution_count": 2,
   "metadata": {},
   "outputs": [],
   "source": [
    "valid_df = pd.read_pickle(\"../pickle_backups/marco_valid_df2024-06-04T17.38.1717490321.pickle\")\n",
    "\n"
   ]
  },
  {
   "cell_type": "code",
   "execution_count": 3,
   "metadata": {},
   "outputs": [
    {
     "data": {
      "text/html": [
       "<div>\n",
       "<style scoped>\n",
       "    .dataframe tbody tr th:only-of-type {\n",
       "        vertical-align: middle;\n",
       "    }\n",
       "\n",
       "    .dataframe tbody tr th {\n",
       "        vertical-align: top;\n",
       "    }\n",
       "\n",
       "    .dataframe thead th {\n",
       "        text-align: right;\n",
       "    }\n",
       "</style>\n",
       "<table border=\"1\" class=\"dataframe\">\n",
       "  <thead>\n",
       "    <tr style=\"text-align: right;\">\n",
       "      <th></th>\n",
       "      <th>answers</th>\n",
       "      <th>passages</th>\n",
       "      <th>query</th>\n",
       "      <th>query_id</th>\n",
       "      <th>query_type</th>\n",
       "      <th>wellFormedAnswers</th>\n",
       "    </tr>\n",
       "  </thead>\n",
       "  <tbody>\n",
       "    <tr>\n",
       "      <th>0</th>\n",
       "      <td>[Approximately $15,000 per year.]</td>\n",
       "      <td>{'is_selected': [1, 0, 0, 0, 0, 0], 'passage_t...</td>\n",
       "      <td>walgreens store sales average</td>\n",
       "      <td>9652</td>\n",
       "      <td>numeric</td>\n",
       "      <td>[]</td>\n",
       "    </tr>\n",
       "    <tr>\n",
       "      <th>1</th>\n",
       "      <td>[$21,550 per year, The average hourly wage for...</td>\n",
       "      <td>{'is_selected': [0, 1, 0, 0, 0, 0, 0, 0], 'pas...</td>\n",
       "      <td>how much do bartenders make</td>\n",
       "      <td>9653</td>\n",
       "      <td>numeric</td>\n",
       "      <td>[]</td>\n",
       "    </tr>\n",
       "    <tr>\n",
       "      <th>2</th>\n",
       "      <td>[A boil, also called a furuncle, is a deep fol...</td>\n",
       "      <td>{'is_selected': [0, 0, 0, 0, 0, 0, 1, 0], 'pas...</td>\n",
       "      <td>what is a furuncle boil</td>\n",
       "      <td>9654</td>\n",
       "      <td>description</td>\n",
       "      <td>[]</td>\n",
       "    </tr>\n",
       "    <tr>\n",
       "      <th>3</th>\n",
       "      <td>[Detect and assess a wide range of disorders, ...</td>\n",
       "      <td>{'is_selected': [0, 0, 0, 0, 1, 0, 0, 0, 0], '...</td>\n",
       "      <td>what can urinalysis detect</td>\n",
       "      <td>9655</td>\n",
       "      <td>description</td>\n",
       "      <td>[]</td>\n",
       "    </tr>\n",
       "    <tr>\n",
       "      <th>4</th>\n",
       "      <td>[Shigellosis, diseases of the nervous system, ...</td>\n",
       "      <td>{'is_selected': [0, 0, 0, 0, 1, 0, 0, 0, 0], '...</td>\n",
       "      <td>what is vitamin a used for</td>\n",
       "      <td>9656</td>\n",
       "      <td>description</td>\n",
       "      <td>[]</td>\n",
       "    </tr>\n",
       "    <tr>\n",
       "      <th>...</th>\n",
       "      <td>...</td>\n",
       "      <td>...</td>\n",
       "      <td>...</td>\n",
       "      <td>...</td>\n",
       "      <td>...</td>\n",
       "      <td>...</td>\n",
       "    </tr>\n",
       "    <tr>\n",
       "      <th>111135</th>\n",
       "      <td>[It is defined as the quality of being wide, o...</td>\n",
       "      <td>{'is_selected': [0, 0, 0, 0, 0, 1, 0, 0, 0, 0]...</td>\n",
       "      <td>define width</td>\n",
       "      <td>129177</td>\n",
       "      <td>NUMERIC</td>\n",
       "      <td>[]</td>\n",
       "    </tr>\n",
       "    <tr>\n",
       "      <th>111136</th>\n",
       "      <td>[Human Resource Management is the term used to...</td>\n",
       "      <td>{'is_selected': [1, 0, 0, 0, 0, 0, 0, 0, 0, 0]...</td>\n",
       "      <td>forbes definition of human resource management</td>\n",
       "      <td>190655</td>\n",
       "      <td>DESCRIPTION</td>\n",
       "      <td>[]</td>\n",
       "    </tr>\n",
       "    <tr>\n",
       "      <th>111137</th>\n",
       "      <td>[No Answer Present.]</td>\n",
       "      <td>{'is_selected': [0, 0, 0, 0, 0, 0, 0, 0, 0, 0]...</td>\n",
       "      <td>how long to wax urethane paint</td>\n",
       "      <td>272679</td>\n",
       "      <td>NUMERIC</td>\n",
       "      <td>[]</td>\n",
       "    </tr>\n",
       "    <tr>\n",
       "      <th>111138</th>\n",
       "      <td>[No Answer Present.]</td>\n",
       "      <td>{'is_selected': [0, 0, 0, 0, 0, 0, 0, 0, 0, 0]...</td>\n",
       "      <td>easiest way to check accounts payable entered ...</td>\n",
       "      <td>177416</td>\n",
       "      <td>DESCRIPTION</td>\n",
       "      <td>[]</td>\n",
       "    </tr>\n",
       "    <tr>\n",
       "      <th>111139</th>\n",
       "      <td>[List the elements you want to include in a he...</td>\n",
       "      <td>{'is_selected': [0, 1, 0, 0, 0, 0, 0, 0, 0, 0]...</td>\n",
       "      <td>how to offer health insurance to employees</td>\n",
       "      <td>371455</td>\n",
       "      <td>DESCRIPTION</td>\n",
       "      <td>[]</td>\n",
       "    </tr>\n",
       "  </tbody>\n",
       "</table>\n",
       "<p>111140 rows × 6 columns</p>\n",
       "</div>"
      ],
      "text/plain": [
       "                                                  answers  \\\n",
       "0                       [Approximately $15,000 per year.]   \n",
       "1       [$21,550 per year, The average hourly wage for...   \n",
       "2       [A boil, also called a furuncle, is a deep fol...   \n",
       "3       [Detect and assess a wide range of disorders, ...   \n",
       "4       [Shigellosis, diseases of the nervous system, ...   \n",
       "...                                                   ...   \n",
       "111135  [It is defined as the quality of being wide, o...   \n",
       "111136  [Human Resource Management is the term used to...   \n",
       "111137                               [No Answer Present.]   \n",
       "111138                               [No Answer Present.]   \n",
       "111139  [List the elements you want to include in a he...   \n",
       "\n",
       "                                                 passages  \\\n",
       "0       {'is_selected': [1, 0, 0, 0, 0, 0], 'passage_t...   \n",
       "1       {'is_selected': [0, 1, 0, 0, 0, 0, 0, 0], 'pas...   \n",
       "2       {'is_selected': [0, 0, 0, 0, 0, 0, 1, 0], 'pas...   \n",
       "3       {'is_selected': [0, 0, 0, 0, 1, 0, 0, 0, 0], '...   \n",
       "4       {'is_selected': [0, 0, 0, 0, 1, 0, 0, 0, 0], '...   \n",
       "...                                                   ...   \n",
       "111135  {'is_selected': [0, 0, 0, 0, 0, 1, 0, 0, 0, 0]...   \n",
       "111136  {'is_selected': [1, 0, 0, 0, 0, 0, 0, 0, 0, 0]...   \n",
       "111137  {'is_selected': [0, 0, 0, 0, 0, 0, 0, 0, 0, 0]...   \n",
       "111138  {'is_selected': [0, 0, 0, 0, 0, 0, 0, 0, 0, 0]...   \n",
       "111139  {'is_selected': [0, 1, 0, 0, 0, 0, 0, 0, 0, 0]...   \n",
       "\n",
       "                                                    query  query_id  \\\n",
       "0                           walgreens store sales average      9652   \n",
       "1                             how much do bartenders make      9653   \n",
       "2                                 what is a furuncle boil      9654   \n",
       "3                              what can urinalysis detect      9655   \n",
       "4                              what is vitamin a used for      9656   \n",
       "...                                                   ...       ...   \n",
       "111135                                       define width    129177   \n",
       "111136     forbes definition of human resource management    190655   \n",
       "111137                     how long to wax urethane paint    272679   \n",
       "111138  easiest way to check accounts payable entered ...    177416   \n",
       "111139         how to offer health insurance to employees    371455   \n",
       "\n",
       "         query_type wellFormedAnswers  \n",
       "0           numeric                []  \n",
       "1           numeric                []  \n",
       "2       description                []  \n",
       "3       description                []  \n",
       "4       description                []  \n",
       "...             ...               ...  \n",
       "111135      NUMERIC                []  \n",
       "111136  DESCRIPTION                []  \n",
       "111137      NUMERIC                []  \n",
       "111138  DESCRIPTION                []  \n",
       "111139  DESCRIPTION                []  \n",
       "\n",
       "[111140 rows x 6 columns]"
      ]
     },
     "execution_count": 3,
     "metadata": {},
     "output_type": "execute_result"
    }
   ],
   "source": [
    "valid_df"
   ]
  },
  {
   "cell_type": "code",
   "execution_count": null,
   "metadata": {},
   "outputs": [],
   "source": [
    "valid_passages = valid_df[\"passages\"]\n",
    "valid_texts = [passage[\"passage_text\"] for passage in valid_passages]\n",
    "valid_df[\"texts\"] = valid_texts\n",
    "\n",
    "#homogenize MS MARCO columns\n",
    "valid_df['query'] = valid_df['query'].apply(lambda x: [x])\n",
    "\n",
    "# Load GloVe vectors\n",
    "glove_vectors = load_glove_vectors('../wv/glove.6B.50d.txt')"
   ]
  },
  {
   "cell_type": "code",
   "execution_count": 3,
   "metadata": {},
   "outputs": [],
   "source": [
    "queries = valid_df[\"query\"]\n",
    "texts = valid_df[\"texts\"]\n",
    "word_freq = compute_word_frequencies(queries + texts)"
   ]
  },
  {
   "cell_type": "markdown",
   "metadata": {},
   "source": [
    "compute SIF embeddings"
   ]
  },
  {
   "cell_type": "code",
   "execution_count": 4,
   "metadata": {},
   "outputs": [],
   "source": [
    "sif_weights = compute_sif_weights(word_freq)"
   ]
  },
  {
   "cell_type": "code",
   "execution_count": 13,
   "metadata": {},
   "outputs": [],
   "source": [
    "query_sif_embeddings = compute_sif_embeddings_queries(queries, glove_vectors, sif_weights)\n",
    "texts_sif_embeddings = compute_sif_embeddings_texts(texts, glove_vectors, sif_weights)"
   ]
  },
  {
   "cell_type": "code",
   "execution_count": 15,
   "metadata": {},
   "outputs": [],
   "source": [
    "texts_sif_embeddings = remove_pc_sif(texts_sif_embeddings, alpha=0.001)"
   ]
  },
  {
   "cell_type": "code",
   "execution_count": 17,
   "metadata": {},
   "outputs": [],
   "source": [
    "valid_df[\"sif_queries\"] = list(query_sif_embeddings)\n",
    "valid_df[\"sif_texts\"] = list(texts_sif_embeddings)"
   ]
  },
  {
   "cell_type": "code",
   "execution_count": 19,
   "metadata": {},
   "outputs": [],
   "source": [
    "#queries = valid_df[\"query\"]\n",
    "#texts = valid_df[\"texts\"]\n",
    "\n",
    "query_glove_embeddings = calculate_glove_corpus_embeddings(queries, glove_vectors)\n"
   ]
  },
  {
   "cell_type": "code",
   "execution_count": 20,
   "metadata": {},
   "outputs": [],
   "source": [
    "texts_glove_embeddings = calculate_glove_corpus_embeddings(texts, glove_vectors)"
   ]
  },
  {
   "cell_type": "code",
   "execution_count": 23,
   "metadata": {},
   "outputs": [],
   "source": [
    "valid_df[\"glove_queries\"] = list(query_glove_embeddings)\n",
    "valid_df[\"glove_texts\"] = list(texts_glove_embeddings)"
   ]
  },
  {
   "cell_type": "code",
   "execution_count": 30,
   "metadata": {},
   "outputs": [],
   "source": [
    "import pickle\n",
    "from datetime import datetime\n",
    "\n",
    "TIMESTAMP = datetime.now()\n",
    "OUTPUT_PATH = Path(\"../pickle_backups\")\n",
    "TIMESTAMP_STR = TIMESTAMP.isoformat().replace(\":\", \".\")\n",
    "\n",
    "with open(OUTPUT_PATH / \n",
    "    f\"valid_embeddings{TIMESTAMP.strftime(r'%Y-%m-%dT%H.%M.%s')}.pickle\",\n",
    "    \"wb\"\n",
    ") as f:\n",
    "    pickle.dump(valid_df, f)"
   ]
  },
  {
   "cell_type": "code",
   "execution_count": null,
   "metadata": {},
   "outputs": [],
   "source": []
  }
 ],
 "metadata": {
  "kernelspec": {
   "display_name": "base",
   "language": "python",
   "name": "python3"
  },
  "language_info": {
   "codemirror_mode": {
    "name": "ipython",
    "version": 3
   },
   "file_extension": ".py",
   "mimetype": "text/x-python",
   "name": "python",
   "nbconvert_exporter": "python",
   "pygments_lexer": "ipython3",
   "version": "3.11.8"
  }
 },
 "nbformat": 4,
 "nbformat_minor": 2
}
