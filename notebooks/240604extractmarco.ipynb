{
 "cells": [
  {
   "cell_type": "code",
   "execution_count": 16,
   "metadata": {},
   "outputs": [],
   "source": [
    "import sys\n",
    "import pandas as pd\n",
    "from pathlib import Path\n",
    "from datasets import load_dataset\n",
    "import nltk\n",
    "from nltk.corpus import stopwords\n",
    "from nltk.tokenize import word_tokenize\n",
    "sys.path.append(\"..\")\n",
    "from sif_src.loader import download_ms_marco, load_data, save_processed_data\n",
    "from sif_src.preprocess_data import preprocess_text\n",
    "from sif_src.utils import load_glove, load_word_vectors\n",
    "from sif_src.sif import compute_word_frequencies, compute_sif_weights, compute_sif_embeddings, remove_pc"
   ]
  },
  {
   "cell_type": "markdown",
   "metadata": {},
   "source": [
    "- Extract and serialize MS MARCO dataset"
   ]
  },
  {
   "cell_type": "code",
   "execution_count": 2,
   "metadata": {},
   "outputs": [
    {
     "name": "stderr",
     "output_type": "stream",
     "text": [
      "/Users/yegor/conda/anaconda3/lib/python3.11/site-packages/datasets/load.py:1748: FutureWarning: 'ignore_verifications' was deprecated in favor of 'verification_mode' in version 2.9.1 and will be removed in 3.0.0.\n",
      "You can remove this warning by passing 'verification_mode=no_checks' instead.\n",
      "  warnings.warn(\n",
      "Found cached dataset parquet (/Users/yegor/.cache/huggingface/datasets/parquet/v1.1-3b5a967d10b189e3/0.0.0/2a3b91fbd88a2c90d1dbbb32b460cf621d31bd5b05b934492fdef7d8d6f236ec)\n"
     ]
    },
    {
     "data": {
      "application/vnd.jupyter.widget-view+json": {
       "model_id": "9d55d56347494c61a65c22932ca5ee3d",
       "version_major": 2,
       "version_minor": 0
      },
      "text/plain": [
       "  0%|          | 0/3 [00:00<?, ?it/s]"
      ]
     },
     "metadata": {},
     "output_type": "display_data"
    }
   ],
   "source": [
    "sys.path.append(\"..\")\n",
    "\n",
    "dataset = load_dataset('ms_marco', ignore_verifications=True)\n",
    "\n",
    "train_dataset = dataset['train']\n",
    "validation_dataset = dataset['validation']"
   ]
  },
  {
   "cell_type": "code",
   "execution_count": 3,
   "metadata": {},
   "outputs": [],
   "source": [
    "train_df = pd.DataFrame(train_dataset)\n",
    "validation_df = pd.DataFrame(validation_dataset)"
   ]
  },
  {
   "cell_type": "code",
   "execution_count": 20,
   "metadata": {},
   "outputs": [
    {
     "name": "stderr",
     "output_type": "stream",
     "text": [
      "[nltk_data] Downloading package punkt to /Users/yegor/nltk_data...\n",
      "[nltk_data]   Package punkt is already up-to-date!\n",
      "[nltk_data] Downloading package stopwords to /Users/yegor/nltk_data...\n",
      "[nltk_data]   Package stopwords is already up-to-date!\n"
     ]
    },
    {
     "data": {
      "text/plain": [
       "True"
      ]
     },
     "execution_count": 20,
     "metadata": {},
     "output_type": "execute_result"
    }
   ],
   "source": [
    "nltk.download('punkt')\n",
    "nltk.download('stopwords')"
   ]
  },
  {
   "cell_type": "code",
   "execution_count": 21,
   "metadata": {},
   "outputs": [],
   "source": [
    "def preprocess_pandas(text_series):\n",
    "\n",
    "    text_series = text_series.str.lower()\n",
    "    text_series = text_series.apply(word_tokenize)\n",
    "    stop_words = set(stopwords.words('english'))\n",
    "\n",
    "    text_series = text_series.apply(\n",
    "        lambda tokens: [word for word in tokens if word.isalnum() and word not in stop_words]\n",
    "    )\n",
    "    return text_series\n"
   ]
  },
  {
   "cell_type": "code",
   "execution_count": 5,
   "metadata": {},
   "outputs": [
    {
     "data": {
      "text/plain": [
       "'import pickle\\nfrom datetime import datetime\\n\\nTIMESTAMP = datetime.now()\\nOUTPUT_PATH = Path(\"../pickle_backups\")\\nTIMESTAMP_STR = TIMESTAMP.isoformat().replace(\":\", \".\")\\n\\nwith open(OUTPUT_PATH / \\n    f\"marco_train_df{TIMESTAMP.strftime(r\\'%Y-%m-%dT%H.%M.%s\\')}.pickle\",\\n    \"wb\"\\n) as f:\\n    pickle.dump(train_df, f)'"
      ]
     },
     "execution_count": 5,
     "metadata": {},
     "output_type": "execute_result"
    }
   ],
   "source": [
    "import pickle\n",
    "from datetime import datetime\n",
    "\n",
    "TIMESTAMP = datetime.now()\n",
    "OUTPUT_PATH = Path(\"../pickle_backups\")\n",
    "TIMESTAMP_STR = TIMESTAMP.isoformat().replace(\":\", \".\")\n",
    "\n",
    "with open(OUTPUT_PATH / \n",
    "    f\"marco_train_df{TIMESTAMP.strftime(r'%Y-%m-%dT%H.%M.%s')}.pickle\",\n",
    "    \"wb\"\n",
    ") as f:\n",
    "    pickle.dump(train_df, f)"
   ]
  },
  {
   "cell_type": "code",
   "execution_count": 6,
   "metadata": {},
   "outputs": [
    {
     "data": {
      "text/plain": [
       "'with open(OUTPUT_PATH / \\n    f\"marco_valid_df{TIMESTAMP.strftime(r\\'%Y-%m-%dT%H.%M.%s\\')}.pickle\",\\n    \"wb\"\\n) as f:\\n    pickle.dump(validation_df, f)'"
      ]
     },
     "execution_count": 6,
     "metadata": {},
     "output_type": "execute_result"
    }
   ],
   "source": [
    "with open(OUTPUT_PATH / \n",
    "    f\"marco_valid_df{TIMESTAMP.strftime(r'%Y-%m-%dT%H.%M.%s')}.pickle\",\n",
    "    \"wb\"\n",
    ") as f:\n",
    "    pickle.dump(validation_df, f)"
   ]
  }
 ],
 "metadata": {
  "kernelspec": {
   "display_name": "base",
   "language": "python",
   "name": "python3"
  },
  "language_info": {
   "codemirror_mode": {
    "name": "ipython",
    "version": 3
   },
   "file_extension": ".py",
   "mimetype": "text/x-python",
   "name": "python",
   "nbconvert_exporter": "python",
   "pygments_lexer": "ipython3",
   "version": "3.11.5"
  }
 },
 "nbformat": 4,
 "nbformat_minor": 2
}
